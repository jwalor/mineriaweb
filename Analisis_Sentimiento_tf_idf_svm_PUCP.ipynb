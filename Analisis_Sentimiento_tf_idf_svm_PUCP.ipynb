{
  "nbformat": 4,
  "nbformat_minor": 0,
  "metadata": {
    "kernelspec": {
      "display_name": "Python 3",
      "language": "python",
      "name": "python3"
    },
    "language_info": {
      "codemirror_mode": {
        "name": "ipython",
        "version": 3
      },
      "file_extension": ".py",
      "mimetype": "text/x-python",
      "name": "python",
      "nbconvert_exporter": "python",
      "pygments_lexer": "ipython3",
      "version": "3.8.5"
    },
    "colab": {
      "name": "Analisis_Sentimiento_tf_idf_svm_PUCP.ipynb",
      "provenance": [],
      "collapsed_sections": [
        "WOMwiBTMypW5"
      ],
      "toc_visible": true,
      "include_colab_link": true
    }
  },
  "cells": [
    {
      "cell_type": "markdown",
      "metadata": {
        "id": "view-in-github",
        "colab_type": "text"
      },
      "source": [
        "<a href=\"https://colab.research.google.com/github/jwalor/mineriaweb/blob/main/Analisis_Sentimiento_tf_idf_svm_PUCP.ipynb\" target=\"_parent\"><img src=\"https://colab.research.google.com/assets/colab-badge.svg\" alt=\"Open In Colab\"/></a>"
      ]
    },
    {
      "cell_type": "markdown",
      "metadata": {
        "id": "lK_QL7kIypVg"
      },
      "source": [
        "# Análisis de Sentimientos (tf-idf + SVM)"
      ]
    },
    {
      "cell_type": "code",
      "metadata": {
        "id": "Fpj7AnjLzE-x",
        "outputId": "5fe314fe-f0e8-4377-8c5f-73739681cdf7",
        "colab": {
          "base_uri": "https://localhost:8080/",
          "height": 34
        }
      },
      "source": [
        "from google.colab import drive\n",
        "drive.mount('/content/drive')"
      ],
      "execution_count": null,
      "outputs": [
        {
          "output_type": "stream",
          "text": [
            "Drive already mounted at /content/drive; to attempt to forcibly remount, call drive.mount(\"/content/drive\", force_remount=True).\n"
          ],
          "name": "stdout"
        }
      ]
    },
    {
      "cell_type": "code",
      "metadata": {
        "id": "JSOMR7zjypVh"
      },
      "source": [
        "import pandas as pd\n",
        "import numpy as np\n",
        "import warnings\n",
        "warnings.filterwarnings(\"ignore\")"
      ],
      "execution_count": null,
      "outputs": []
    },
    {
      "cell_type": "markdown",
      "metadata": {
        "id": "kTBJ0y3CypVo"
      },
      "source": [
        "## 1. Cargando Datos"
      ]
    },
    {
      "cell_type": "code",
      "metadata": {
        "id": "Ta_4hZ-VypVp",
        "outputId": "71b29427-0928-40a9-8e6f-a351dc903f62",
        "colab": {
          "base_uri": "https://localhost:8080/",
          "height": 34
        }
      },
      "source": [
        "pd.ExcelFile(\"/content/drive/My Drive/mineria web/s6/80s.xlsx\")"
      ],
      "execution_count": 6,
      "outputs": [
        {
          "output_type": "execute_result",
          "data": {
            "text/plain": [
              "<pandas.io.excel._base.ExcelFile at 0x7fc66a300710>"
            ]
          },
          "metadata": {
            "tags": []
          },
          "execution_count": 6
        }
      ]
    },
    {
      "cell_type": "code",
      "metadata": {
        "id": "8Sr-NDvnypVu",
        "outputId": "e77da0db-4514-4f1e-f403-4d5383c799a8",
        "colab": {
          "base_uri": "https://localhost:8080/",
          "height": 34
        }
      },
      "source": [
        "archivo = pd.ExcelFile(\"/content/drive/My Drive/mineria web/s6/80s.xlsx\")\n",
        "archivo.sheet_names"
      ],
      "execution_count": 8,
      "outputs": [
        {
          "output_type": "execute_result",
          "data": {
            "text/plain": [
              "['80s']"
            ]
          },
          "metadata": {
            "tags": []
          },
          "execution_count": 8
        }
      ]
    },
    {
      "cell_type": "code",
      "metadata": {
        "id": "OrD-QE3BypVz"
      },
      "source": [
        "df = archivo.parse(\"80s\")"
      ],
      "execution_count": null,
      "outputs": []
    },
    {
      "cell_type": "code",
      "metadata": {
        "id": "IaNnzANxypV2"
      },
      "source": [
        "df.head()"
      ],
      "execution_count": null,
      "outputs": []
    },
    {
      "cell_type": "code",
      "metadata": {
        "id": "DAORCdq8ypV6"
      },
      "source": [
        "df.shape"
      ],
      "execution_count": null,
      "outputs": []
    },
    {
      "cell_type": "code",
      "metadata": {
        "id": "gkeC-IrpypWA"
      },
      "source": [
        "df['Comentariomin'].values[0]"
      ],
      "execution_count": null,
      "outputs": []
    },
    {
      "cell_type": "markdown",
      "metadata": {
        "id": "v4kXdl2_ypWG"
      },
      "source": [
        "#### Separando comentarios positivos/negativos"
      ]
    },
    {
      "cell_type": "code",
      "metadata": {
        "id": "Faq92vRvypWH"
      },
      "source": [
        "df_positivos = df[df[\"EVALUACION\"]>=4]\n",
        "df_negativos = df[df[\"EVALUACION\"]<=2]"
      ],
      "execution_count": null,
      "outputs": []
    },
    {
      "cell_type": "code",
      "metadata": {
        "id": "dZcWw-VEypWK"
      },
      "source": [
        "df_positivos.shape, df_negativos.shape"
      ],
      "execution_count": null,
      "outputs": []
    },
    {
      "cell_type": "code",
      "metadata": {
        "id": "4M8bCWuYypWO"
      },
      "source": [
        "datos = pd.concat([df_positivos,df_negativos],ignore_index=True)\n",
        "datos.shape"
      ],
      "execution_count": null,
      "outputs": []
    },
    {
      "cell_type": "code",
      "metadata": {
        "id": "dCZIju1qypWS"
      },
      "source": [
        "datos['EVALUACION'][datos[\"EVALUACION\"]<=2] = 0\n",
        "datos['EVALUACION'][datos[\"EVALUACION\"]>=4] = 1"
      ],
      "execution_count": null,
      "outputs": []
    },
    {
      "cell_type": "code",
      "metadata": {
        "id": "SgR0qCUgypWW"
      },
      "source": [
        "datos"
      ],
      "execution_count": null,
      "outputs": []
    },
    {
      "cell_type": "markdown",
      "metadata": {
        "id": "mxie7ts6ypWZ"
      },
      "source": [
        "## 2. Limpieza básica de Datos Textuales"
      ]
    },
    {
      "cell_type": "code",
      "metadata": {
        "id": "-D8M13GIypWa"
      },
      "source": [
        "def limpieza(texto):\n",
        "    \n",
        "    out = []\n",
        "    for w in texto.split():\n",
        "        if (len(w)>3):\n",
        "            out.append(w)\n",
        "    \n",
        "    return \" \".join(out)"
      ],
      "execution_count": null,
      "outputs": []
    },
    {
      "cell_type": "code",
      "metadata": {
        "id": "fqFWY-4JypWe"
      },
      "source": [
        "datos['Limpio'] = datos['Comentariomin'].apply(limpieza)\n",
        "datos.head()"
      ],
      "execution_count": null,
      "outputs": []
    },
    {
      "cell_type": "markdown",
      "metadata": {
        "id": "yi-2JOC1ypWi"
      },
      "source": [
        "## 3. TF - TF-idf"
      ]
    },
    {
      "cell_type": "code",
      "metadata": {
        "id": "8KKmGKwdypWj"
      },
      "source": [
        "from sklearn.feature_extraction.text import TfidfVectorizer"
      ],
      "execution_count": null,
      "outputs": []
    },
    {
      "cell_type": "code",
      "metadata": {
        "id": "JPvweoHaypWn"
      },
      "source": [
        "data = datos['Limpio'].values.tolist()"
      ],
      "execution_count": null,
      "outputs": []
    },
    {
      "cell_type": "code",
      "metadata": {
        "id": "jDhgAjZgypWr"
      },
      "source": [
        "vectorizer = TfidfVectorizer(max_features=100)\n",
        "FV = vectorizer.fit_transform(data)\n",
        "FV = FV.toarray()"
      ],
      "execution_count": null,
      "outputs": []
    },
    {
      "cell_type": "code",
      "metadata": {
        "id": "6fF4Nq2VypWu"
      },
      "source": [
        "vectorizer.get_feature_names()"
      ],
      "execution_count": null,
      "outputs": []
    },
    {
      "cell_type": "code",
      "metadata": {
        "id": "5DWjqGXHypWz"
      },
      "source": [
        "datos.head()"
      ],
      "execution_count": null,
      "outputs": []
    },
    {
      "cell_type": "code",
      "metadata": {
        "id": "JRTJK9aSypW2"
      },
      "source": [
        "datos['FV'] = FV.tolist()\n",
        "datos.head()"
      ],
      "execution_count": null,
      "outputs": []
    },
    {
      "cell_type": "markdown",
      "metadata": {
        "id": "WOMwiBTMypW5"
      },
      "source": [
        "#### Separando Train/Test (80%/20%)"
      ]
    },
    {
      "cell_type": "code",
      "metadata": {
        "id": "D3P9q1dtypW6"
      },
      "source": [
        "from sklearn.model_selection import train_test_split"
      ],
      "execution_count": null,
      "outputs": []
    },
    {
      "cell_type": "code",
      "metadata": {
        "id": "FmERKXiEypW9"
      },
      "source": [
        "X = np.array(datos.FV.to_list())\n",
        "Y = np.array(datos.EVALUACION.to_list())"
      ],
      "execution_count": null,
      "outputs": []
    },
    {
      "cell_type": "code",
      "metadata": {
        "id": "2aH4UwidypXB"
      },
      "source": [
        "X_train, X_test, y_train, y_test = train_test_split(X,\n",
        "                                                    Y,\n",
        "                                                    test_size=0.2,\n",
        "                                                   random_state=10)"
      ],
      "execution_count": null,
      "outputs": []
    },
    {
      "cell_type": "code",
      "metadata": {
        "id": "dogx46MlypXE"
      },
      "source": [
        "X_train.shape,X_test.shape,y_train.shape,y_test.shape"
      ],
      "execution_count": null,
      "outputs": []
    },
    {
      "cell_type": "markdown",
      "metadata": {
        "id": "fit3zLaTypXH"
      },
      "source": [
        "## 4. SVM"
      ]
    },
    {
      "cell_type": "code",
      "metadata": {
        "id": "TzcNiv_mypXI"
      },
      "source": [
        "from sklearn import svm"
      ],
      "execution_count": null,
      "outputs": []
    },
    {
      "cell_type": "code",
      "metadata": {
        "id": "vqf6oNq3ypXL"
      },
      "source": [
        "clasificador = svm.SVC()\n",
        "clasificador.fit(X_train,y_train)"
      ],
      "execution_count": null,
      "outputs": []
    },
    {
      "cell_type": "code",
      "metadata": {
        "id": "b0sUb2wDypXP"
      },
      "source": [
        "Y_pred = clasificador.predict(X_test)"
      ],
      "execution_count": null,
      "outputs": []
    },
    {
      "cell_type": "code",
      "metadata": {
        "id": "h_tXDe7IypXU"
      },
      "source": [
        "Y_pred"
      ],
      "execution_count": null,
      "outputs": []
    },
    {
      "cell_type": "code",
      "metadata": {
        "id": "XbpUjIwqypXX"
      },
      "source": [
        "from sklearn.metrics import accuracy_score,classification_report"
      ],
      "execution_count": null,
      "outputs": []
    },
    {
      "cell_type": "code",
      "metadata": {
        "id": "UwR4BNDNypXc"
      },
      "source": [
        "accuracy_score(y_test,Y_pred)"
      ],
      "execution_count": null,
      "outputs": []
    },
    {
      "cell_type": "code",
      "metadata": {
        "id": "exz8cEoUypXf"
      },
      "source": [
        "print(classification_report(y_test,Y_pred))"
      ],
      "execution_count": null,
      "outputs": []
    },
    {
      "cell_type": "code",
      "metadata": {
        "id": "-4Nur2S2ypXl"
      },
      "source": [
        "texto = \"rapida\"\n",
        "fv = vectorizer.transform([texto]).toarray()\n",
        "clasificador.predict(fv)"
      ],
      "execution_count": null,
      "outputs": []
    },
    {
      "cell_type": "code",
      "metadata": {
        "id": "EgBJrvWSypXp"
      },
      "source": [
        "texto = \"demora\"\n",
        "fv = vectorizer.transform([texto]).toarray()\n",
        "clasificador.predict(fv)"
      ],
      "execution_count": null,
      "outputs": []
    }
  ]
}